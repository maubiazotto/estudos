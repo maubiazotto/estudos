{
  "nbformat": 4,
  "nbformat_minor": 0,
  "metadata": {
    "colab": {
      "provenance": [],
      "authorship_tag": "ABX9TyPFPi77g9QTVEHnDFK0DM2C",
      "include_colab_link": true
    },
    "kernelspec": {
      "name": "python3",
      "display_name": "Python 3"
    },
    "language_info": {
      "name": "python"
    }
  },
  "cells": [
    {
      "cell_type": "markdown",
      "metadata": {
        "id": "view-in-github",
        "colab_type": "text"
      },
      "source": [
        "<a href=\"https://colab.research.google.com/github/maubiazotto/estudos/blob/main/Regress%C3%A3o_linear_CRISP_DM.ipynb\" target=\"_parent\"><img src=\"https://colab.research.google.com/assets/colab-badge.svg\" alt=\"Open In Colab\"/></a>"
      ]
    },
    {
      "cell_type": "code",
      "execution_count": 3,
      "metadata": {
        "id": "9npKWa7Zbjyk"
      },
      "outputs": [],
      "source": [
        "from sklearn import datasets\n",
        "import pandas as pd"
      ]
    },
    {
      "cell_type": "code",
      "source": [
        "housing = pd.read_csv('housing.csv', delim_whitespace=True, header=None)\n",
        "#delim_whitespace=True => indica que o separador de colunas são espaços em branco\n",
        "#header=None => indica que o dataset nao tem cabeçalho"
      ],
      "metadata": {
        "id": "H7o3Ei8ydH6f",
        "colab": {
          "base_uri": "https://localhost:8080/"
        },
        "outputId": "0cb54fe2-9a7c-4c14-e33d-f353784eeca8"
      },
      "execution_count": 4,
      "outputs": [
        {
          "output_type": "stream",
          "name": "stderr",
          "text": [
            "<ipython-input-4-5cc29390e7c3>:1: FutureWarning: The 'delim_whitespace' keyword in pd.read_csv is deprecated and will be removed in a future version. Use ``sep='\\s+'`` instead\n",
            "  housing = pd.read_csv('housing.csv', delim_whitespace=True, header=None)\n"
          ]
        }
      ]
    },
    {
      "cell_type": "code",
      "source": [
        "#incluindo o nome das colunas no dataset:\n",
        "housing.columns = ['CRIM', 'ZN', 'INDUS', 'CHAS', 'NOX', 'RM', 'AGE', 'DIS', 'RAD', 'TAX', 'PTRATIO', 'B', 'LSTAT', 'MEDV']"
      ],
      "metadata": {
        "id": "6Fo5SDbThJXM"
      },
      "execution_count": 5,
      "outputs": []
    },
    {
      "cell_type": "code",
      "source": [
        "#DATA SET CHARACTERISTICS:\n",
        "#Data Set Characteristics:\n",
        "\n",
        "#:Number of Instances: 506\n",
        "\n",
        "#:Number of Attributes: 13 numeric/categorical predictive. Median Value (attribute 14) is usually the target.\n",
        "\n",
        "#:Attribute Information (in order):\n",
        "\n",
        "# CRIM: per capita crime rate by town\n",
        "# ZN: proportion of residential land zoned for lots over 25,000 sq.ft.\n",
        "# INDUS: proportion of non-retail business acres per town\n",
        "# CHAS: Charles River dummy variable (= 1 if tract bounds river; 0 otherwise)\n",
        "# NOX: nitric oxides concentration (parts per 10 million)\n",
        "# RM: average number of rooms per dwelling\n",
        "# AGE: proportion of owner-occupied units built prior to 1940\n",
        "# DIS: weighted distances to five Boston employment centres\n",
        "# RAD: index of accessibility to radial highways\n",
        "# TAX: full-value property-tax rate per $10,000\n",
        "# PTRATIO: pupil-teacher ratio by town\n",
        "# B: 1000(Bk - 0.63)^2 where Bk is the proportion of black people by town\n",
        "# LSTAT: % lower status of the population\n",
        "# MEDV: Median value of owner-occupied homes in $1000's"
      ],
      "metadata": {
        "id": "i82fYlXCh6_c"
      },
      "execution_count": 6,
      "outputs": []
    },
    {
      "cell_type": "code",
      "source": [
        "housing.head()"
      ],
      "metadata": {
        "colab": {
          "base_uri": "https://localhost:8080/",
          "height": 206
        },
        "id": "OT9pphqWiL3c",
        "outputId": "2dd205e2-f236-4272-b1b3-aef0837e5377"
      },
      "execution_count": 7,
      "outputs": [
        {
          "output_type": "execute_result",
          "data": {
            "text/plain": [
              "      CRIM    ZN  INDUS  CHAS    NOX     RM   AGE     DIS  RAD    TAX  \\\n",
              "0  0.00632  18.0   2.31     0  0.538  6.575  65.2  4.0900    1  296.0   \n",
              "1  0.02731   0.0   7.07     0  0.469  6.421  78.9  4.9671    2  242.0   \n",
              "2  0.02729   0.0   7.07     0  0.469  7.185  61.1  4.9671    2  242.0   \n",
              "3  0.03237   0.0   2.18     0  0.458  6.998  45.8  6.0622    3  222.0   \n",
              "4  0.06905   0.0   2.18     0  0.458  7.147  54.2  6.0622    3  222.0   \n",
              "\n",
              "   PTRATIO       B  LSTAT  MEDV  \n",
              "0     15.3  396.90   4.98  24.0  \n",
              "1     17.8  396.90   9.14  21.6  \n",
              "2     17.8  392.83   4.03  34.7  \n",
              "3     18.7  394.63   2.94  33.4  \n",
              "4     18.7  396.90   5.33  36.2  "
            ],
            "text/html": [
              "\n",
              "  <div id=\"df-78678b53-f771-436c-a479-3abf6b1a4238\" class=\"colab-df-container\">\n",
              "    <div>\n",
              "<style scoped>\n",
              "    .dataframe tbody tr th:only-of-type {\n",
              "        vertical-align: middle;\n",
              "    }\n",
              "\n",
              "    .dataframe tbody tr th {\n",
              "        vertical-align: top;\n",
              "    }\n",
              "\n",
              "    .dataframe thead th {\n",
              "        text-align: right;\n",
              "    }\n",
              "</style>\n",
              "<table border=\"1\" class=\"dataframe\">\n",
              "  <thead>\n",
              "    <tr style=\"text-align: right;\">\n",
              "      <th></th>\n",
              "      <th>CRIM</th>\n",
              "      <th>ZN</th>\n",
              "      <th>INDUS</th>\n",
              "      <th>CHAS</th>\n",
              "      <th>NOX</th>\n",
              "      <th>RM</th>\n",
              "      <th>AGE</th>\n",
              "      <th>DIS</th>\n",
              "      <th>RAD</th>\n",
              "      <th>TAX</th>\n",
              "      <th>PTRATIO</th>\n",
              "      <th>B</th>\n",
              "      <th>LSTAT</th>\n",
              "      <th>MEDV</th>\n",
              "    </tr>\n",
              "  </thead>\n",
              "  <tbody>\n",
              "    <tr>\n",
              "      <th>0</th>\n",
              "      <td>0.00632</td>\n",
              "      <td>18.0</td>\n",
              "      <td>2.31</td>\n",
              "      <td>0</td>\n",
              "      <td>0.538</td>\n",
              "      <td>6.575</td>\n",
              "      <td>65.2</td>\n",
              "      <td>4.0900</td>\n",
              "      <td>1</td>\n",
              "      <td>296.0</td>\n",
              "      <td>15.3</td>\n",
              "      <td>396.90</td>\n",
              "      <td>4.98</td>\n",
              "      <td>24.0</td>\n",
              "    </tr>\n",
              "    <tr>\n",
              "      <th>1</th>\n",
              "      <td>0.02731</td>\n",
              "      <td>0.0</td>\n",
              "      <td>7.07</td>\n",
              "      <td>0</td>\n",
              "      <td>0.469</td>\n",
              "      <td>6.421</td>\n",
              "      <td>78.9</td>\n",
              "      <td>4.9671</td>\n",
              "      <td>2</td>\n",
              "      <td>242.0</td>\n",
              "      <td>17.8</td>\n",
              "      <td>396.90</td>\n",
              "      <td>9.14</td>\n",
              "      <td>21.6</td>\n",
              "    </tr>\n",
              "    <tr>\n",
              "      <th>2</th>\n",
              "      <td>0.02729</td>\n",
              "      <td>0.0</td>\n",
              "      <td>7.07</td>\n",
              "      <td>0</td>\n",
              "      <td>0.469</td>\n",
              "      <td>7.185</td>\n",
              "      <td>61.1</td>\n",
              "      <td>4.9671</td>\n",
              "      <td>2</td>\n",
              "      <td>242.0</td>\n",
              "      <td>17.8</td>\n",
              "      <td>392.83</td>\n",
              "      <td>4.03</td>\n",
              "      <td>34.7</td>\n",
              "    </tr>\n",
              "    <tr>\n",
              "      <th>3</th>\n",
              "      <td>0.03237</td>\n",
              "      <td>0.0</td>\n",
              "      <td>2.18</td>\n",
              "      <td>0</td>\n",
              "      <td>0.458</td>\n",
              "      <td>6.998</td>\n",
              "      <td>45.8</td>\n",
              "      <td>6.0622</td>\n",
              "      <td>3</td>\n",
              "      <td>222.0</td>\n",
              "      <td>18.7</td>\n",
              "      <td>394.63</td>\n",
              "      <td>2.94</td>\n",
              "      <td>33.4</td>\n",
              "    </tr>\n",
              "    <tr>\n",
              "      <th>4</th>\n",
              "      <td>0.06905</td>\n",
              "      <td>0.0</td>\n",
              "      <td>2.18</td>\n",
              "      <td>0</td>\n",
              "      <td>0.458</td>\n",
              "      <td>7.147</td>\n",
              "      <td>54.2</td>\n",
              "      <td>6.0622</td>\n",
              "      <td>3</td>\n",
              "      <td>222.0</td>\n",
              "      <td>18.7</td>\n",
              "      <td>396.90</td>\n",
              "      <td>5.33</td>\n",
              "      <td>36.2</td>\n",
              "    </tr>\n",
              "  </tbody>\n",
              "</table>\n",
              "</div>\n",
              "    <div class=\"colab-df-buttons\">\n",
              "\n",
              "  <div class=\"colab-df-container\">\n",
              "    <button class=\"colab-df-convert\" onclick=\"convertToInteractive('df-78678b53-f771-436c-a479-3abf6b1a4238')\"\n",
              "            title=\"Convert this dataframe to an interactive table.\"\n",
              "            style=\"display:none;\">\n",
              "\n",
              "  <svg xmlns=\"http://www.w3.org/2000/svg\" height=\"24px\" viewBox=\"0 -960 960 960\">\n",
              "    <path d=\"M120-120v-720h720v720H120Zm60-500h600v-160H180v160Zm220 220h160v-160H400v160Zm0 220h160v-160H400v160ZM180-400h160v-160H180v160Zm440 0h160v-160H620v160ZM180-180h160v-160H180v160Zm440 0h160v-160H620v160Z\"/>\n",
              "  </svg>\n",
              "    </button>\n",
              "\n",
              "  <style>\n",
              "    .colab-df-container {\n",
              "      display:flex;\n",
              "      gap: 12px;\n",
              "    }\n",
              "\n",
              "    .colab-df-convert {\n",
              "      background-color: #E8F0FE;\n",
              "      border: none;\n",
              "      border-radius: 50%;\n",
              "      cursor: pointer;\n",
              "      display: none;\n",
              "      fill: #1967D2;\n",
              "      height: 32px;\n",
              "      padding: 0 0 0 0;\n",
              "      width: 32px;\n",
              "    }\n",
              "\n",
              "    .colab-df-convert:hover {\n",
              "      background-color: #E2EBFA;\n",
              "      box-shadow: 0px 1px 2px rgba(60, 64, 67, 0.3), 0px 1px 3px 1px rgba(60, 64, 67, 0.15);\n",
              "      fill: #174EA6;\n",
              "    }\n",
              "\n",
              "    .colab-df-buttons div {\n",
              "      margin-bottom: 4px;\n",
              "    }\n",
              "\n",
              "    [theme=dark] .colab-df-convert {\n",
              "      background-color: #3B4455;\n",
              "      fill: #D2E3FC;\n",
              "    }\n",
              "\n",
              "    [theme=dark] .colab-df-convert:hover {\n",
              "      background-color: #434B5C;\n",
              "      box-shadow: 0px 1px 3px 1px rgba(0, 0, 0, 0.15);\n",
              "      filter: drop-shadow(0px 1px 2px rgba(0, 0, 0, 0.3));\n",
              "      fill: #FFFFFF;\n",
              "    }\n",
              "  </style>\n",
              "\n",
              "    <script>\n",
              "      const buttonEl =\n",
              "        document.querySelector('#df-78678b53-f771-436c-a479-3abf6b1a4238 button.colab-df-convert');\n",
              "      buttonEl.style.display =\n",
              "        google.colab.kernel.accessAllowed ? 'block' : 'none';\n",
              "\n",
              "      async function convertToInteractive(key) {\n",
              "        const element = document.querySelector('#df-78678b53-f771-436c-a479-3abf6b1a4238');\n",
              "        const dataTable =\n",
              "          await google.colab.kernel.invokeFunction('convertToInteractive',\n",
              "                                                    [key], {});\n",
              "        if (!dataTable) return;\n",
              "\n",
              "        const docLinkHtml = 'Like what you see? Visit the ' +\n",
              "          '<a target=\"_blank\" href=https://colab.research.google.com/notebooks/data_table.ipynb>data table notebook</a>'\n",
              "          + ' to learn more about interactive tables.';\n",
              "        element.innerHTML = '';\n",
              "        dataTable['output_type'] = 'display_data';\n",
              "        await google.colab.output.renderOutput(dataTable, element);\n",
              "        const docLink = document.createElement('div');\n",
              "        docLink.innerHTML = docLinkHtml;\n",
              "        element.appendChild(docLink);\n",
              "      }\n",
              "    </script>\n",
              "  </div>\n",
              "\n",
              "\n",
              "<div id=\"df-4ca534a4-0040-4084-acb1-f2c94f24e2a4\">\n",
              "  <button class=\"colab-df-quickchart\" onclick=\"quickchart('df-4ca534a4-0040-4084-acb1-f2c94f24e2a4')\"\n",
              "            title=\"Suggest charts\"\n",
              "            style=\"display:none;\">\n",
              "\n",
              "<svg xmlns=\"http://www.w3.org/2000/svg\" height=\"24px\"viewBox=\"0 0 24 24\"\n",
              "     width=\"24px\">\n",
              "    <g>\n",
              "        <path d=\"M19 3H5c-1.1 0-2 .9-2 2v14c0 1.1.9 2 2 2h14c1.1 0 2-.9 2-2V5c0-1.1-.9-2-2-2zM9 17H7v-7h2v7zm4 0h-2V7h2v10zm4 0h-2v-4h2v4z\"/>\n",
              "    </g>\n",
              "</svg>\n",
              "  </button>\n",
              "\n",
              "<style>\n",
              "  .colab-df-quickchart {\n",
              "      --bg-color: #E8F0FE;\n",
              "      --fill-color: #1967D2;\n",
              "      --hover-bg-color: #E2EBFA;\n",
              "      --hover-fill-color: #174EA6;\n",
              "      --disabled-fill-color: #AAA;\n",
              "      --disabled-bg-color: #DDD;\n",
              "  }\n",
              "\n",
              "  [theme=dark] .colab-df-quickchart {\n",
              "      --bg-color: #3B4455;\n",
              "      --fill-color: #D2E3FC;\n",
              "      --hover-bg-color: #434B5C;\n",
              "      --hover-fill-color: #FFFFFF;\n",
              "      --disabled-bg-color: #3B4455;\n",
              "      --disabled-fill-color: #666;\n",
              "  }\n",
              "\n",
              "  .colab-df-quickchart {\n",
              "    background-color: var(--bg-color);\n",
              "    border: none;\n",
              "    border-radius: 50%;\n",
              "    cursor: pointer;\n",
              "    display: none;\n",
              "    fill: var(--fill-color);\n",
              "    height: 32px;\n",
              "    padding: 0;\n",
              "    width: 32px;\n",
              "  }\n",
              "\n",
              "  .colab-df-quickchart:hover {\n",
              "    background-color: var(--hover-bg-color);\n",
              "    box-shadow: 0 1px 2px rgba(60, 64, 67, 0.3), 0 1px 3px 1px rgba(60, 64, 67, 0.15);\n",
              "    fill: var(--button-hover-fill-color);\n",
              "  }\n",
              "\n",
              "  .colab-df-quickchart-complete:disabled,\n",
              "  .colab-df-quickchart-complete:disabled:hover {\n",
              "    background-color: var(--disabled-bg-color);\n",
              "    fill: var(--disabled-fill-color);\n",
              "    box-shadow: none;\n",
              "  }\n",
              "\n",
              "  .colab-df-spinner {\n",
              "    border: 2px solid var(--fill-color);\n",
              "    border-color: transparent;\n",
              "    border-bottom-color: var(--fill-color);\n",
              "    animation:\n",
              "      spin 1s steps(1) infinite;\n",
              "  }\n",
              "\n",
              "  @keyframes spin {\n",
              "    0% {\n",
              "      border-color: transparent;\n",
              "      border-bottom-color: var(--fill-color);\n",
              "      border-left-color: var(--fill-color);\n",
              "    }\n",
              "    20% {\n",
              "      border-color: transparent;\n",
              "      border-left-color: var(--fill-color);\n",
              "      border-top-color: var(--fill-color);\n",
              "    }\n",
              "    30% {\n",
              "      border-color: transparent;\n",
              "      border-left-color: var(--fill-color);\n",
              "      border-top-color: var(--fill-color);\n",
              "      border-right-color: var(--fill-color);\n",
              "    }\n",
              "    40% {\n",
              "      border-color: transparent;\n",
              "      border-right-color: var(--fill-color);\n",
              "      border-top-color: var(--fill-color);\n",
              "    }\n",
              "    60% {\n",
              "      border-color: transparent;\n",
              "      border-right-color: var(--fill-color);\n",
              "    }\n",
              "    80% {\n",
              "      border-color: transparent;\n",
              "      border-right-color: var(--fill-color);\n",
              "      border-bottom-color: var(--fill-color);\n",
              "    }\n",
              "    90% {\n",
              "      border-color: transparent;\n",
              "      border-bottom-color: var(--fill-color);\n",
              "    }\n",
              "  }\n",
              "</style>\n",
              "\n",
              "  <script>\n",
              "    async function quickchart(key) {\n",
              "      const quickchartButtonEl =\n",
              "        document.querySelector('#' + key + ' button');\n",
              "      quickchartButtonEl.disabled = true;  // To prevent multiple clicks.\n",
              "      quickchartButtonEl.classList.add('colab-df-spinner');\n",
              "      try {\n",
              "        const charts = await google.colab.kernel.invokeFunction(\n",
              "            'suggestCharts', [key], {});\n",
              "      } catch (error) {\n",
              "        console.error('Error during call to suggestCharts:', error);\n",
              "      }\n",
              "      quickchartButtonEl.classList.remove('colab-df-spinner');\n",
              "      quickchartButtonEl.classList.add('colab-df-quickchart-complete');\n",
              "    }\n",
              "    (() => {\n",
              "      let quickchartButtonEl =\n",
              "        document.querySelector('#df-4ca534a4-0040-4084-acb1-f2c94f24e2a4 button');\n",
              "      quickchartButtonEl.style.display =\n",
              "        google.colab.kernel.accessAllowed ? 'block' : 'none';\n",
              "    })();\n",
              "  </script>\n",
              "</div>\n",
              "\n",
              "    </div>\n",
              "  </div>\n"
            ],
            "application/vnd.google.colaboratory.intrinsic+json": {
              "type": "dataframe",
              "variable_name": "housing",
              "summary": "{\n  \"name\": \"housing\",\n  \"rows\": 506,\n  \"fields\": [\n    {\n      \"column\": \"CRIM\",\n      \"properties\": {\n        \"dtype\": \"number\",\n        \"std\": 8.601545105332487,\n        \"min\": 0.00632,\n        \"max\": 88.9762,\n        \"num_unique_values\": 504,\n        \"samples\": [\n          0.09178,\n          0.05644,\n          0.10574\n        ],\n        \"semantic_type\": \"\",\n        \"description\": \"\"\n      }\n    },\n    {\n      \"column\": \"ZN\",\n      \"properties\": {\n        \"dtype\": \"number\",\n        \"std\": 23.322452994515036,\n        \"min\": 0.0,\n        \"max\": 100.0,\n        \"num_unique_values\": 26,\n        \"samples\": [\n          25.0,\n          30.0,\n          18.0\n        ],\n        \"semantic_type\": \"\",\n        \"description\": \"\"\n      }\n    },\n    {\n      \"column\": \"INDUS\",\n      \"properties\": {\n        \"dtype\": \"number\",\n        \"std\": 6.8603529408975845,\n        \"min\": 0.46,\n        \"max\": 27.74,\n        \"num_unique_values\": 76,\n        \"samples\": [\n          8.14,\n          1.47,\n          1.22\n        ],\n        \"semantic_type\": \"\",\n        \"description\": \"\"\n      }\n    },\n    {\n      \"column\": \"CHAS\",\n      \"properties\": {\n        \"dtype\": \"number\",\n        \"std\": 0,\n        \"min\": 0,\n        \"max\": 1,\n        \"num_unique_values\": 2,\n        \"samples\": [\n          1,\n          0\n        ],\n        \"semantic_type\": \"\",\n        \"description\": \"\"\n      }\n    },\n    {\n      \"column\": \"NOX\",\n      \"properties\": {\n        \"dtype\": \"number\",\n        \"std\": 0.11587767566755611,\n        \"min\": 0.385,\n        \"max\": 0.871,\n        \"num_unique_values\": 81,\n        \"samples\": [\n          0.401,\n          0.538\n        ],\n        \"semantic_type\": \"\",\n        \"description\": \"\"\n      }\n    },\n    {\n      \"column\": \"RM\",\n      \"properties\": {\n        \"dtype\": \"number\",\n        \"std\": 0.7026171434153237,\n        \"min\": 3.561,\n        \"max\": 8.78,\n        \"num_unique_values\": 446,\n        \"samples\": [\n          6.849,\n          4.88\n        ],\n        \"semantic_type\": \"\",\n        \"description\": \"\"\n      }\n    },\n    {\n      \"column\": \"AGE\",\n      \"properties\": {\n        \"dtype\": \"number\",\n        \"std\": 28.148861406903638,\n        \"min\": 2.9,\n        \"max\": 100.0,\n        \"num_unique_values\": 356,\n        \"samples\": [\n          51.8,\n          33.8\n        ],\n        \"semantic_type\": \"\",\n        \"description\": \"\"\n      }\n    },\n    {\n      \"column\": \"DIS\",\n      \"properties\": {\n        \"dtype\": \"number\",\n        \"std\": 2.1057101266276104,\n        \"min\": 1.1296,\n        \"max\": 12.1265,\n        \"num_unique_values\": 412,\n        \"samples\": [\n          2.2955,\n          4.2515\n        ],\n        \"semantic_type\": \"\",\n        \"description\": \"\"\n      }\n    },\n    {\n      \"column\": \"RAD\",\n      \"properties\": {\n        \"dtype\": \"number\",\n        \"std\": 8,\n        \"min\": 1,\n        \"max\": 24,\n        \"num_unique_values\": 9,\n        \"samples\": [\n          7,\n          2\n        ],\n        \"semantic_type\": \"\",\n        \"description\": \"\"\n      }\n    },\n    {\n      \"column\": \"TAX\",\n      \"properties\": {\n        \"dtype\": \"number\",\n        \"std\": 168.53711605495926,\n        \"min\": 187.0,\n        \"max\": 711.0,\n        \"num_unique_values\": 66,\n        \"samples\": [\n          370.0,\n          666.0\n        ],\n        \"semantic_type\": \"\",\n        \"description\": \"\"\n      }\n    },\n    {\n      \"column\": \"PTRATIO\",\n      \"properties\": {\n        \"dtype\": \"number\",\n        \"std\": 2.164945523714446,\n        \"min\": 12.6,\n        \"max\": 22.0,\n        \"num_unique_values\": 46,\n        \"samples\": [\n          19.6,\n          15.6\n        ],\n        \"semantic_type\": \"\",\n        \"description\": \"\"\n      }\n    },\n    {\n      \"column\": \"B\",\n      \"properties\": {\n        \"dtype\": \"number\",\n        \"std\": 91.29486438415779,\n        \"min\": 0.32,\n        \"max\": 396.9,\n        \"num_unique_values\": 357,\n        \"samples\": [\n          396.24,\n          395.11\n        ],\n        \"semantic_type\": \"\",\n        \"description\": \"\"\n      }\n    },\n    {\n      \"column\": \"LSTAT\",\n      \"properties\": {\n        \"dtype\": \"number\",\n        \"std\": 7.141061511348571,\n        \"min\": 1.73,\n        \"max\": 37.97,\n        \"num_unique_values\": 455,\n        \"samples\": [\n          6.15,\n          4.32\n        ],\n        \"semantic_type\": \"\",\n        \"description\": \"\"\n      }\n    },\n    {\n      \"column\": \"MEDV\",\n      \"properties\": {\n        \"dtype\": \"number\",\n        \"std\": 9.19710408737982,\n        \"min\": 5.0,\n        \"max\": 50.0,\n        \"num_unique_values\": 229,\n        \"samples\": [\n          14.1,\n          22.5\n        ],\n        \"semantic_type\": \"\",\n        \"description\": \"\"\n      }\n    }\n  ]\n}"
            }
          },
          "metadata": {},
          "execution_count": 7
        }
      ]
    },
    {
      "cell_type": "code",
      "source": [
        "X = housing.drop(columns = ['MEDV']).values #removi a coluna target e extrai apenas os valores do dataframe\n",
        "Y = housing['MEDV'] #criei uma variável apenas com as variáveis target\n",
        "\n",
        "#Caracteristica das casas\n",
        "print(X)\n",
        "\n",
        "#Preço conhecido das casas\n",
        "print(Y)"
      ],
      "metadata": {
        "colab": {
          "base_uri": "https://localhost:8080/"
        },
        "id": "j67x4qvZjSUn",
        "outputId": "ac1174b5-8810-48e8-99bc-26ccaf65a17c",
        "collapsed": true
      },
      "execution_count": 8,
      "outputs": [
        {
          "output_type": "stream",
          "name": "stdout",
          "text": [
            "[[6.3200e-03 1.8000e+01 2.3100e+00 ... 1.5300e+01 3.9690e+02 4.9800e+00]\n",
            " [2.7310e-02 0.0000e+00 7.0700e+00 ... 1.7800e+01 3.9690e+02 9.1400e+00]\n",
            " [2.7290e-02 0.0000e+00 7.0700e+00 ... 1.7800e+01 3.9283e+02 4.0300e+00]\n",
            " ...\n",
            " [6.0760e-02 0.0000e+00 1.1930e+01 ... 2.1000e+01 3.9690e+02 5.6400e+00]\n",
            " [1.0959e-01 0.0000e+00 1.1930e+01 ... 2.1000e+01 3.9345e+02 6.4800e+00]\n",
            " [4.7410e-02 0.0000e+00 1.1930e+01 ... 2.1000e+01 3.9690e+02 7.8800e+00]]\n",
            "0      24.0\n",
            "1      21.6\n",
            "2      34.7\n",
            "3      33.4\n",
            "4      36.2\n",
            "       ... \n",
            "501    22.4\n",
            "502    20.6\n",
            "503    23.9\n",
            "504    22.0\n",
            "505    11.9\n",
            "Name: MEDV, Length: 506, dtype: float64\n"
          ]
        }
      ]
    },
    {
      "cell_type": "markdown",
      "source": [
        "## Selecionando as técnicas de modelo (Modeling Techniques)\n",
        "\n",
        "1. Regressão linear comum do SKLearn\n",
        "\n",
        "[Documentação Regressão](https://scikit-learn.org/stable/modules/generated/sklearn.linear_model.LinearRegression.html)\n",
        "\n",
        "2. SVR\n",
        "\n",
        "[Documentação SVR](https://scikit-learn.org/stable/modules/generated/sklearn.svm.SVR.html)\n",
        "\n",
        "\n",
        "3. Decision tree regression do XGBoost\n",
        "\n",
        "[Documentação XGBoost](https://xgboost.readthedocs.io/en/stable/python/python_api.html)\n",
        "\n",
        "---\n",
        "\n",
        "## Requisitos técnicos (modeling assumptions):\n",
        "\n",
        "Serão utilizadas apenas variáveis numéricas"
      ],
      "metadata": {
        "id": "kD5jtSnvmkZd"
      }
    },
    {
      "cell_type": "markdown",
      "source": [
        "# TEST DESIGN\n",
        "\n",
        "## Dataset split:\n",
        "\n",
        "Separação de Train/Test dataset padrão com 20% de massa para teste via método SKLearn\n",
        "\n",
        "##Métrica de avaliação do modelo:\n",
        "\n",
        "-MSE (Mean Squared Error): Quando há poucos outliers, o MSE penaliza mais os erros grandes.\n",
        "\n",
        "-MAE (Mean Absolute Error): Quando há muitos outliers, o MAE penaliza por igual todos os erros.\n",
        "\n",
        "-RMSE (Root Mean Squared Error): Penaliza erros grandes como o MSE, mas tem uma escala mais comparável aos valores reais.\n",
        "\n",
        "![Screenshot_1.png](data:image/png;base64,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)\n"
      ],
      "metadata": {
        "id": "ahlk48mY-kWh"
      }
    },
    {
      "cell_type": "code",
      "source": [
        "from sklearn.model_selection import train_test_split"
      ],
      "metadata": {
        "id": "JpNuYNQpmS5d"
      },
      "execution_count": 9,
      "outputs": []
    },
    {
      "cell_type": "code",
      "source": [
        "X_train, X_test, Y_train, Y_test = train_test_split(X,Y, test_size = 0.2, random_state = 42)\n",
        "#test_size = significa qual o % do dataset que será usada para teste. No caso, 20% é usado para teste e 80% usada para treino (TREINO 80% / TESTE 20%)\n",
        "#random_state = é a \"seed\" do treino. Arbirtrar um número indica que o resultado sempre será o mesmo"
      ],
      "metadata": {
        "id": "AozkLKnd_ygI"
      },
      "execution_count": 10,
      "outputs": []
    },
    {
      "cell_type": "markdown",
      "source": [
        "# TÉCNICA 1 - REGRESSÃO LINEAR"
      ],
      "metadata": {
        "id": "-faS2FnLox9f"
      }
    },
    {
      "cell_type": "code",
      "source": [
        "from sklearn.linear_model import LinearRegression\n",
        "\n",
        "#alocando o modelo de regressao linear:\n",
        "regLinear = LinearRegression()\n",
        "#OBS: dentro da função LinearRegression() existem \"hiper-paramentros\" que determintam o comportamento da função;\n",
        "#Por exemplo: sklearn.linear_model.LinearRegression(*, fit_intercept=True, copy_X=True, n_jobs=None, positive=False)[source]   -> verificar a documentação para analisar cada hiper-parametro\n",
        "\n",
        "\n",
        "#Treinando o modelo:\n",
        "treinado = regLinear.fit(X_train, Y_train)\n",
        "\n",
        "#o modelo poderia ser simplificado em 1 linha:\n",
        "# regLinear = LinearRegression().fit(X_train, Y_train)"
      ],
      "metadata": {
        "id": "oZmU7y9HBgVK"
      },
      "execution_count": 11,
      "outputs": []
    },
    {
      "cell_type": "code",
      "source": [
        "y_pred = treinado.predict(X_test)"
      ],
      "metadata": {
        "id": "Y9y1MQtVkbba"
      },
      "execution_count": 12,
      "outputs": []
    },
    {
      "cell_type": "code",
      "source": [
        "from sklearn.metrics import mean_squared_error\n",
        "MSE_linear = mean_squared_error(Y_test, y_pred)\n",
        "print(MSE_linear)"
      ],
      "metadata": {
        "colab": {
          "base_uri": "https://localhost:8080/"
        },
        "id": "bFLStxQTlaTA",
        "outputId": "51a02b12-d474-47bf-a6dc-f197d2320efc"
      },
      "execution_count": 28,
      "outputs": [
        {
          "output_type": "stream",
          "name": "stdout",
          "text": [
            "24.291119474973485\n"
          ]
        }
      ]
    },
    {
      "cell_type": "code",
      "source": [
        "#para calcular o RMSE, calcular a raiz quadrada do MSE\n",
        "import numpy as np\n",
        "print(\"MSE Regressão linear = {:.3} mil dólares\".format(MSE_linear))\n",
        "print(\"RMSE Regressão linear = {:.3} mil dólares\".format(np.sqrt(MSE_linear)))\n"
      ],
      "metadata": {
        "colab": {
          "base_uri": "https://localhost:8080/"
        },
        "id": "arSQ62DYnAtA",
        "outputId": "ca5d8fa1-a29e-412b-b6f3-a2fd72a4bd5d"
      },
      "execution_count": 29,
      "outputs": [
        {
          "output_type": "stream",
          "name": "stdout",
          "text": [
            "MSE Regressão linear = 24.3 mil dólares\n",
            "RMSE Regressão linear = 4.93 mil dólares\n"
          ]
        }
      ]
    },
    {
      "cell_type": "markdown",
      "source": [
        "# TÉCNICA 2 - SUPORT VECTOR REGRESSION (SVR)"
      ],
      "metadata": {
        "id": "Vr27DaCso69D"
      }
    },
    {
      "cell_type": "code",
      "source": [
        "from sklearn.svm import SVR\n",
        "regSVR = SVR().fit(X_train, Y_train)"
      ],
      "metadata": {
        "id": "t7TJnTX7pDTk"
      },
      "execution_count": 30,
      "outputs": []
    },
    {
      "cell_type": "code",
      "source": [
        "ySVR = regSVR.predict(X_test)"
      ],
      "metadata": {
        "id": "M5rVtJ8EyGIu"
      },
      "execution_count": 31,
      "outputs": []
    },
    {
      "cell_type": "code",
      "source": [
        "MSE_SVR = mean_squared_error(Y_test, ySVR)\n",
        "print(\"MSE SVR = {:.3} mil dólares\".format(MSE_SVR))\n",
        "print(\"RMSE SVR = {:.3} mil dólares\".format(np.sqrt(MSE_SVR)))"
      ],
      "metadata": {
        "colab": {
          "base_uri": "https://localhost:8080/"
        },
        "id": "fjyqNgOxys_5",
        "outputId": "dbe7de16-1ce5-4f33-f122-d8a8c1f4b958"
      },
      "execution_count": 32,
      "outputs": [
        {
          "output_type": "stream",
          "name": "stdout",
          "text": [
            "MSE SVR = 52.8 mil dólares\n",
            "RMSE SVR = 7.27 mil dólares\n"
          ]
        }
      ]
    }
  ]
}